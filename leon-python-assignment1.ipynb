{
 "cells": [
  {
   "cell_type": "markdown",
   "id": "beautiful-taiwan",
   "metadata": {},
   "source": [
    "#### LEON MANGALISO SIHLONGONYANE"
   ]
  },
  {
   "cell_type": "markdown",
   "id": "stock-singapore",
   "metadata": {},
   "source": [
    "#### Question 1"
   ]
  },
  {
   "cell_type": "code",
   "execution_count": 1,
   "id": "round-complexity",
   "metadata": {},
   "outputs": [
    {
     "name": "stdout",
     "output_type": "stream",
     "text": [
      "Input a number in seconds: 446464646\n",
      "446464646 seconds  =  738 weeks, 1 days, 9 hours, 57 minutes, 26 seconds "
     ]
    }
   ],
   "source": [
    "T = int(input(\"Input a number in seconds: \"))\n",
    "week_sec=604800                                  #seconds in weeks, days, hours, minutes\n",
    "day_sec=86400\n",
    "hr_sec=3600\n",
    "min_sec=60\n",
    "week, divident1 =divmod(T,week_sec)\n",
    "days, divident2 =divmod(divident1,day_sec)\n",
    "hours, divident3 =divmod(divident2,hr_sec)\n",
    "minutes, seconds =divmod(divident3,min_sec)\n",
    "print(str(T)+\" seconds  = \",end=\" \")\n",
    "a=str(week)+\" weeks,\"\n",
    "b=str(days)+\" days,\"\n",
    "c=str(hours)+\" hours,\"\n",
    "d=str(minutes)+\" minutes,\"\n",
    "e=str(seconds)+\" seconds\"\n",
    "if week!=0:\n",
    "    print(a,end=\" \")\n",
    "if days!=0:\n",
    "    print(b,end=\" \")\n",
    "if hours!=0:\n",
    "    print(c,end=\" \")\n",
    "if minutes!=0:\n",
    "    print(d,end=\" \")\n",
    "if seconds!=0:\n",
    "    print(e,end=\" \")"
   ]
  },
  {
   "cell_type": "markdown",
   "id": "golden-listening",
   "metadata": {},
   "source": [
    "#### Question 2"
   ]
  },
  {
   "cell_type": "code",
   "execution_count": 7,
   "id": "private-replica",
   "metadata": {},
   "outputs": [
    {
     "name": "stdout",
     "output_type": "stream",
     "text": [
      "------------------------------\n",
      "Item # \t Item \t \t Price \n",
      " ------------------------------ \n",
      " 1 \t CHEESE PIZZA \t 150 \n",
      " 2 \t SPINACH PIZZA \t 210 \n",
      " 3 \t CHICKEN PIZZA \t 275\n",
      "\n",
      " ----Order from above list----\n",
      "Choose item: 3\n",
      "Quantity: 9\n",
      "Bill: 2475\n"
     ]
    }
   ],
   "source": [
    "print(\"---\"*10)           #print functions used to show dispay of the menu.\n",
    "print(\"Item #\",\"\\t\",\"Item\",\"\\t\",\"\\t\",\"Price\",\"\\n\",\"---\"*10,\"\\n\",'1','\\t','CHEESE PIZZA','\\t','150',\"\\n\",'2','\\t','SPINACH PIZZA','\\t','210',\"\\n\",'3','\\t','CHICKEN PIZZA','\\t','275')\n",
    "print(\"\\n\",\"----Order from above list----\")\n",
    "pick = int(input('Choose item: '))     #prompt stage\n",
    "quant = int(input('Quantity: '))\n",
    "cheese=150                            #Assignment stage\n",
    "spinach=210\n",
    "chicken=275\n",
    "if pick == 1 :                         #condictional statements used for the rest of the progam calculations\n",
    "    pick=cheese\n",
    "elif pick==2:\n",
    "    pick=spinach\n",
    "else:\n",
    "    pick=chicken \n",
    "print('Bill:', pick*quant)         #print stage"
   ]
  },
  {
   "cell_type": "markdown",
   "id": "baking-turning",
   "metadata": {},
   "source": [
    "#### Question 3\n",
    "\n",
    "##### (i) drawing a shape"
   ]
  },
  {
   "cell_type": "code",
   "execution_count": 56,
   "id": "specific-struggle",
   "metadata": {},
   "outputs": [
    {
     "name": "stdout",
     "output_type": "stream",
     "text": [
      "**********\n",
      " *       *\n",
      "  *      *\n",
      "   *     *\n",
      "    *    *\n",
      "     *****\n"
     ]
    }
   ],
   "source": [
    "print('*'*10)\n",
    "print(' *'+' '*7+'*')\n",
    "print(2*' ' +'*'+' '*6+'*')\n",
    "print(3*' ' +'*'+' '*5+'*')\n",
    "print(4*' ' +'*'+' '*4+'*')\n",
    "print(' '*5+5*'*')"
   ]
  },
  {
   "cell_type": "markdown",
   "id": "saving-surname",
   "metadata": {},
   "source": [
    "##### (ii) drawing a shape using only ONE print statement"
   ]
  },
  {
   "cell_type": "code",
   "execution_count": 91,
   "id": "judicial-herald",
   "metadata": {},
   "outputs": [
    {
     "name": "stdout",
     "output_type": "stream",
     "text": [
      "********** \n",
      " *       * \n",
      "  *      * \n",
      "   *     * \n",
      "    *    * \n",
      "     *****\n"
     ]
    }
   ],
   "source": [
    "print('*'*10,'\\n','*'+' '*7+'*','\\n',' *'+' '*6+'*','\\n',2*' ' +'*'+' '*5+'*','\\n',3*' ' +'*'+' '*4+'*','\\n',' '*4+5*'*')"
   ]
  },
  {
   "cell_type": "markdown",
   "id": "differential-release",
   "metadata": {},
   "source": [
    "#### Question 4"
   ]
  },
  {
   "cell_type": "code",
   "execution_count": 2,
   "id": "allied-government",
   "metadata": {},
   "outputs": [
    {
     "name": "stdout",
     "output_type": "stream",
     "text": [
      "Please enter the value of x: 1\n",
      "Please enter the value of y: 2.4\n",
      "h(1.0,2.4) = -0.4\n"
     ]
    }
   ],
   "source": [
    "import numpy as np                   #importing module to call some maths functions\n",
    "x = float(input('Please enter the value of x: '))              #prompt stage\n",
    "y = float(input('Please enter the value of y: '))\n",
    "if (x < 0):                           #conditional statements stage\n",
    "    h=np.cos(np.pi*y)\n",
    "elif (x>=0) and (x<1):\n",
    "    h=np.abs(x-y)\n",
    "elif (x >= 1) and (x <2):\n",
    "    h=(2-x**2*y)\n",
    "else:\n",
    "    h=np.exp(-y)/(1+x**2)\n",
    "print(\"h(\"+str(x)+\",\"+str(y)+\")\",\"=\",np.round(h,2))   #print stage"
   ]
  },
  {
   "cell_type": "markdown",
   "id": "normal-starter",
   "metadata": {},
   "source": [
    "#### Question 5"
   ]
  },
  {
   "cell_type": "code",
   "execution_count": 4,
   "id": "inside-circumstances",
   "metadata": {},
   "outputs": [
    {
     "name": "stdout",
     "output_type": "stream",
     "text": [
      "2\n",
      "4\n",
      "2\n",
      "2\n",
      "6\n",
      "The number times face 6 shows up:  1\n"
     ]
    }
   ],
   "source": [
    "import random as rnd           #importing random module to be able to randomise i.e for throwing of dice\n",
    "count=0\n",
    "dice = rnd.randint(1,6)\n",
    "print(dice) \n",
    "if dice==6:                   \n",
    "    count+=1\n",
    "dice = rnd.randint(1,6)\n",
    "print(dice) \n",
    "if dice==6:                   \n",
    "    count+=1\n",
    "dice = rnd.randint(1,6)\n",
    "print(dice) \n",
    "if dice==6:                   \n",
    "    count+=1\n",
    "dice = rnd.randint(1,6)\n",
    "print(dice) \n",
    "if dice==6:                   \n",
    "    count+=1\n",
    "dice = rnd.randint(1,6)\n",
    "print(dice) \n",
    "if dice==6:                   \n",
    "    count+=1\n",
    "print('The number times face 6 shows up: ',count)                   # printing stage i.e gives number of times face 6 shows up"
   ]
  },
  {
   "cell_type": "markdown",
   "id": "adopted-referral",
   "metadata": {},
   "source": [
    "#### Question 6"
   ]
  },
  {
   "cell_type": "code",
   "execution_count": 6,
   "id": "declared-cliff",
   "metadata": {},
   "outputs": [
    {
     "name": "stdout",
     "output_type": "stream",
     "text": [
      "Heads\n",
      "Heads\n",
      "Tails\n",
      "Heads\n",
      "Tails\n",
      "Number of times TAILS show up:  2\n"
     ]
    }
   ],
   "source": [
    "import random as rnd         #importing of module as in Question 5.\n",
    "cont=0                          #calculation stage\n",
    "c = rnd.randint(1,6)\n",
    "if c<=4:\n",
    "    print('Heads')\n",
    "else:                 \n",
    "    print('Tails')\n",
    "    cont+=1\n",
    "c = rnd.randint(1,6)\n",
    "if c<=4:\n",
    "    print('Heads')\n",
    "else:                 \n",
    "    print('Tails')\n",
    "    cont+=1\n",
    "c = rnd.randint(1,6)\n",
    "if c<=4:\n",
    "    print('Heads')\n",
    "else:                 \n",
    "    print('Tails')\n",
    "    cont+=1\n",
    "c = rnd.randint(1,6)\n",
    "if c<=4:\n",
    "    print('Heads')\n",
    "else:                 \n",
    "    print('Tails')\n",
    "    cont+=1\n",
    "c = rnd.randint(1,6)\n",
    "if c<=4:\n",
    "    print('Heads')\n",
    "else:                 \n",
    "    print('Tails')\n",
    "    cont+=1\n",
    "print(\"Number of times TAILS show up: \",cont)         #print stage i.e gives number of times TAIL shows up"
   ]
  },
  {
   "cell_type": "markdown",
   "id": "parental-reconstruction",
   "metadata": {},
   "source": [
    "#### ..................................................................END OF PYTHON ASSIGNMENT 1............................................................................................"
   ]
  },
  {
   "cell_type": "code",
   "execution_count": null,
   "id": "cathedral-stadium",
   "metadata": {},
   "outputs": [],
   "source": []
  },
  {
   "cell_type": "code",
   "execution_count": null,
   "id": "hispanic-beads",
   "metadata": {},
   "outputs": [],
   "source": []
  }
 ],
 "metadata": {
  "kernelspec": {
   "display_name": "Python 3",
   "language": "python",
   "name": "python3"
  },
  "language_info": {
   "codemirror_mode": {
    "name": "ipython",
    "version": 3
   },
   "file_extension": ".py",
   "mimetype": "text/x-python",
   "name": "python",
   "nbconvert_exporter": "python",
   "pygments_lexer": "ipython3",
   "version": "3.9.2"
  }
 },
 "nbformat": 4,
 "nbformat_minor": 5
}
